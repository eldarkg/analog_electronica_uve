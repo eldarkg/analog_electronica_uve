{
 "cells": [
  {
   "cell_type": "code",
   "execution_count": 1,
   "metadata": {},
   "outputs": [],
   "source": [
    "%matplotlib widget\n",
    "\n",
    "import pandas as pd\n",
    "\n",
    "import sympy\n",
    "from sympy.abc import U\n",
    "\n",
    "from visual import disp, plot\n",
    "from calculate import op"
   ]
  },
  {
   "cell_type": "code",
   "execution_count": 2,
   "metadata": {},
   "outputs": [],
   "source": [
    "a0 = 5E-4\n",
    "a1 = 4\n",
    "\n",
    "I0 = 5E-3\n",
    "Gi = 2.5E-3\n",
    "\n",
    "UA0 = 0\n",
    "eps = 1E-3"
   ]
  },
  {
   "cell_type": "code",
   "execution_count": 3,
   "metadata": {},
   "outputs": [
    {
     "data": {
      "text/latex": [
       "$G = 0.002 - 0.0005 U, См$"
      ],
      "text/plain": [
       "<IPython.core.display.Latex object>"
      ]
     },
     "metadata": {},
     "output_type": "display_data"
    }
   ],
   "source": [
    "G = a0 * (a1 - U)\n",
    "#G = sympy.lambdify(U, a0 * (a1 - U), 'math')\n",
    "disp(G)"
   ]
  },
  {
   "cell_type": "code",
   "execution_count": 4,
   "metadata": {},
   "outputs": [
    {
     "data": {
      "text/latex": [
       "$I = U \\left(0.002 - 0.0005 U\\right), А$"
      ],
      "text/plain": [
       "<IPython.core.display.Latex object>"
      ]
     },
     "metadata": {},
     "output_type": "display_data"
    }
   ],
   "source": [
    "I = U * G\n",
    "disp(I)"
   ]
  },
  {
   "cell_type": "code",
   "execution_count": 5,
   "metadata": {},
   "outputs": [
    {
     "data": {
      "text/html": [
       "<div>\n",
       "<style scoped>\n",
       "    .dataframe tbody tr th:only-of-type {\n",
       "        vertical-align: middle;\n",
       "    }\n",
       "\n",
       "    .dataframe tbody tr th {\n",
       "        vertical-align: top;\n",
       "    }\n",
       "\n",
       "    .dataframe thead th {\n",
       "        text-align: right;\n",
       "    }\n",
       "</style>\n",
       "<table border=\"1\" class=\"dataframe\">\n",
       "  <thead>\n",
       "    <tr style=\"text-align: right;\">\n",
       "      <th></th>\n",
       "      <th>n</th>\n",
       "      <th>UAn, В</th>\n",
       "      <th>IAn, А</th>\n",
       "      <th>gAn, См</th>\n",
       "      <th>|UAn+1 - Un|, В</th>\n",
       "    </tr>\n",
       "  </thead>\n",
       "  <tbody>\n",
       "    <tr>\n",
       "      <th>0</th>\n",
       "      <td>0</td>\n",
       "      <td>0</td>\n",
       "      <td>0</td>\n",
       "      <td>0.00200000000000000</td>\n",
       "      <td>1.11111111111111</td>\n",
       "    </tr>\n",
       "    <tr>\n",
       "      <th>1</th>\n",
       "      <td>1</td>\n",
       "      <td>1.11111111111111</td>\n",
       "      <td>0.00160493827160494</td>\n",
       "      <td>0.000888888888888889</td>\n",
       "      <td>0.182149362477232</td>\n",
       "    </tr>\n",
       "    <tr>\n",
       "      <th>2</th>\n",
       "      <td>2</td>\n",
       "      <td>1.29326047358834</td>\n",
       "      <td>0.00175025962090371</td>\n",
       "      <td>0.000706739526411657</td>\n",
       "      <td>0.00517322813056564</td>\n",
       "    </tr>\n",
       "    <tr>\n",
       "      <th>3</th>\n",
       "      <td>3</td>\n",
       "      <td>1.29843370171891</td>\n",
       "      <td>0.00175390236455808</td>\n",
       "      <td>0.000701566298281092</td>\n",
       "      <td>4.17956193898839e-6</td>\n",
       "    </tr>\n",
       "  </tbody>\n",
       "</table>\n",
       "</div>"
      ],
      "text/plain": [
       "   n            UAn, В               IAn, А               gAn, См  \\\n",
       "0  0                 0                    0   0.00200000000000000   \n",
       "1  1  1.11111111111111  0.00160493827160494  0.000888888888888889   \n",
       "2  2  1.29326047358834  0.00175025962090371  0.000706739526411657   \n",
       "3  3  1.29843370171891  0.00175390236455808  0.000701566298281092   \n",
       "\n",
       "       |UAn+1 - Un|, В  \n",
       "0     1.11111111111111  \n",
       "1    0.182149362477232  \n",
       "2  0.00517322813056564  \n",
       "3  4.17956193898839e-6  "
      ]
     },
     "execution_count": 5,
     "metadata": {},
     "output_type": "execute_result"
    }
   ],
   "source": [
    "U0 = I0 / Gi\n",
    "df = op(I, I0, U0, UA0, eps)\n",
    "df"
   ]
  }
 ],
 "metadata": {
  "kernelspec": {
   "display_name": "Python 3",
   "language": "python",
   "name": "python3"
  },
  "language_info": {
   "codemirror_mode": {
    "name": "ipython",
    "version": 3
   },
   "file_extension": ".py",
   "mimetype": "text/x-python",
   "name": "python",
   "nbconvert_exporter": "python",
   "pygments_lexer": "ipython3",
   "version": "3.8.10"
  },
  "orig_nbformat": 4
 },
 "nbformat": 4,
 "nbformat_minor": 2
}
