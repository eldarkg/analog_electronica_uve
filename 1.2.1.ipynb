{
 "cells": [
  {
   "cell_type": "code",
   "execution_count": 1,
   "metadata": {},
   "outputs": [],
   "source": [
    "%matplotlib widget\n",
    "\n",
    "from IPython.display import display, Latex\n",
    "\n",
    "import sympy\n",
    "\n",
    "from visual import disp, plot, plot_harmonics"
   ]
  },
  {
   "cell_type": "code",
   "execution_count": 2,
   "metadata": {},
   "outputs": [],
   "source": [
    "T_0 = sympy.Symbol('T_0', real=True, positive=True)\n",
    "T_1 = sympy.Symbol('T_1', real=True, positive=True)\n",
    "T_2 = sympy.Symbol('T_2', real=True, positive=True)\n",
    "T_3 = sympy.Symbol('T_3', real=True, positive=True)\n",
    "U_0 = sympy.Symbol('U_0', real=True, positive=True)\n",
    "U_1 = sympy.Symbol('U_1', real=True, positive=True)\n",
    "I_S0 = sympy.Symbol('I_S0', real=True, positive=True)\n",
    "I_S2 = sympy.Symbol('I_S2', real=True, positive=True)\n",
    "I_S3 = sympy.Symbol('I_S3', real=True, positive=True)"
   ]
  },
  {
   "cell_type": "code",
   "execution_count": 18,
   "metadata": {},
   "outputs": [],
   "source": [
    "var = {T_0: 25, T_1: 60, T_2: 20, T_3: 30, \n",
    "       U_0: 0.811, U_1: 0.739, \n",
    "       I_S0: 6E-11, I_S2: 4E-11, I_S3: 8E-11}"
   ]
  },
  {
   "cell_type": "code",
   "execution_count": 20,
   "metadata": {},
   "outputs": [
    {
     "data": {
      "text/latex": [
       "$I = 10.0, мА$"
      ],
      "text/plain": [
       "<IPython.core.display.Latex object>"
      ]
     },
     "metadata": {},
     "output_type": "display_data"
    },
    {
     "data": {
      "text/latex": [
       "$d_{T} = -2.05714285714286, мВ/К$"
      ],
      "text/plain": [
       "<IPython.core.display.Latex object>"
      ]
     },
     "metadata": {},
     "output_type": "display_data"
    }
   ],
   "source": [
    "d_T = ((U_1 - U_0) / (T_1 - T_0)).subs(\n",
    "    [(U_0, var[U_0]), (U_1, var[U_1]), (T_0, var[T_0]), (T_1, var[T_1])])\n",
    "I = 1E-2\n",
    "disp(I)\n",
    "disp(d_T)"
   ]
  },
  {
   "cell_type": "code",
   "execution_count": 21,
   "metadata": {},
   "outputs": [
    {
     "data": {
      "text/latex": [
       "$T_{0} = 25, \\degree{C}$"
      ],
      "text/plain": [
       "<IPython.core.display.Latex object>"
      ]
     },
     "metadata": {},
     "output_type": "display_data"
    },
    {
     "data": {
      "text/latex": [
       "$\\lambda_{T} = 0.0666666666666667, 1/К$"
      ],
      "text/plain": [
       "<IPython.core.display.Latex object>"
      ]
     },
     "metadata": {},
     "output_type": "display_data"
    }
   ],
   "source": [
    "lambda_T = (1 / I_S0 * (I_S3 - I_S2) / (T_3 - T_2)).subs(\n",
    "    [(I_S0, var[I_S0]), (I_S3, var[I_S3]), (I_S2, var[I_S2]),\n",
    "     (T_3, var[T_3]), (T_2, var[T_2])])\n",
    "T_0 = var[T_0]\n",
    "disp(T_0)\n",
    "disp(lambda_T)"
   ]
  }
 ],
 "metadata": {
  "kernelspec": {
   "display_name": "Python 3",
   "language": "python",
   "name": "python3"
  },
  "language_info": {
   "codemirror_mode": {
    "name": "ipython",
    "version": 3
   },
   "file_extension": ".py",
   "mimetype": "text/x-python",
   "name": "python",
   "nbconvert_exporter": "python",
   "pygments_lexer": "ipython3",
   "version": "3.8.10"
  },
  "orig_nbformat": 4
 },
 "nbformat": 4,
 "nbformat_minor": 2
}
